{
 "cells": [
  {
   "cell_type": "code",
   "execution_count": 1,
   "metadata": {},
   "outputs": [],
   "source": [
    "import numpy as np\n",
    "import pandas as pd\n",
    "\n",
    "import os\n",
    "import json\n",
    "from pathlib import Path\n",
    "\n",
    "import matplotlib.pyplot as plt\n",
    "from matplotlib import colors"
   ]
  },
  {
   "cell_type": "code",
   "execution_count": 2,
   "metadata": {},
   "outputs": [],
   "source": [
    "training_path = Path('../data/training/')\n",
    "training_tasks = sorted(os.listdir(training_path))"
   ]
  },
  {
   "cell_type": "code",
   "execution_count": 3,
   "metadata": {},
   "outputs": [],
   "source": [
    "def get_task(task_id):\n",
    "    task_file = str(training_path / task_id)\n",
    "    with open(task_file, 'r') as f:\n",
    "        return json.load(f)"
   ]
  },
  {
   "cell_type": "code",
   "execution_count": 4,
   "metadata": {},
   "outputs": [],
   "source": [
    "def plot_task(task):\n",
    "    \"\"\"\n",
    "    Plots all train and test pairs of a specified task,\n",
    "    using same color scheme as the ARC app\n",
    "    \"\"\"\n",
    "    cmap = colors.ListedColormap(\n",
    "        ['#000000', '#0074D9','#FF4136','#2ECC40','#FFDC00',\n",
    "         '#AAAAAA', '#F012BE', '#FF851B', '#7FDBFF', '#870C25'])\n",
    "    norm = colors.Normalize(vmin=0, vmax=9)\n",
    "    num_train = len(task[\"train\"])\n",
    "    num_test = len(task[\"test\"])\n",
    "    fig, axes = plt.subplots(2, num_train+num_test, figsize=(15,8))\n",
    "    task_ind = 0\n",
    "    for data in task[\"train\"]:\n",
    "        axes[0, task_ind].imshow(data['input'], cmap=cmap, norm=norm)\n",
    "        axes[0, task_ind].set_title('Train Input')\n",
    "        axes[1, task_ind].imshow(data['output'], cmap=cmap, norm=norm)\n",
    "        axes[1, task_ind].set_title('Train Output')\n",
    "        task_ind += 1\n",
    "    for data in task[\"test\"]:\n",
    "        axes[0, task_ind].imshow(data['input'], cmap=cmap, norm=norm)\n",
    "        axes[0, task_ind].set_title('Test Input')\n",
    "        axes[1, task_ind].imshow(data['output'], cmap=cmap, norm=norm)\n",
    "        axes[1, task_ind].set_title('Test Output')\n",
    "        task_ind += 1\n",
    "    plt.tight_layout()\n",
    "    plt.show()"
   ]
  },
  {
   "cell_type": "markdown",
   "metadata": {},
   "source": [
    "## Go through training set and mark priors\n",
    "\n",
    "shapes included in object priors"
   ]
  },
  {
   "cell_type": "code",
   "execution_count": 5,
   "metadata": {},
   "outputs": [],
   "source": [
    "priors = {\n",
    "    \"object_priors\": {\n",
    "        1: \"lines\",\n",
    "        2: \"complete boxes\",\n",
    "        3: \"partial boxes\",\n",
    "        4: \"triangle\",\n",
    "        5: \"random figures\",\n",
    "        6: \"noise\",\n",
    "        7: \"object contact relationship\"\n",
    "    },\n",
    "    \"goal_directedness_priors\": {\n",
    "        1: \"move till acheive goal\"\n",
    "    },\n",
    "    \"counting_priors\": {\n",
    "        1: \"count\",\n",
    "        2: \"sort by size\",\n",
    "        3: \"repeat\"\n",
    "    },\n",
    "    \"basic_geometry_priors\": {\n",
    "        1: \"symmetry\",\n",
    "        2: \"scaling\",\n",
    "        3: \"a shape containing other shape\",\n",
    "        4: \"drawing lines\"\n",
    "    }\n",
    "}\n",
    "prior_types = list(priors.keys())"
   ]
  },
  {
   "cell_type": "code",
   "execution_count": 6,
   "metadata": {},
   "outputs": [],
   "source": [
    "meta_filename = \"prior_meta.csv\"\n",
    "# create a dataset to store information, when running first time\n",
    "# columns = [\"task_id\"] + prior_types\n",
    "# df = pd.DataFrame(columns=columns)\n",
    "# df.to_csv(meta_filename, index=False)\n",
    "\n",
    "# load current dataframe\n",
    "df = pd.read_csv(\"prior_meta.csv\")"
   ]
  },
  {
   "cell_type": "code",
   "execution_count": 7,
   "metadata": {},
   "outputs": [
    {
     "data": {
      "text/plain": [
       "400"
      ]
     },
     "execution_count": 7,
     "metadata": {},
     "output_type": "execute_result"
    }
   ],
   "source": [
    "remainig_tasks = set(training_tasks).difference(set(df[\"task_id\"]))\n",
    "len(remainig_tasks)"
   ]
  },
  {
   "cell_type": "code",
   "execution_count": 13,
   "metadata": {},
   "outputs": [],
   "source": [
    "def run_label_iteration(df):\n",
    "    task_id = remainig_tasks.pop()\n",
    "    plot_task(get_task(task_id))\n",
    "    \n",
    "    new_row = {\"task_id\": task_id}\n",
    "    print(\"Task Id: {}\".format(task_id))\n",
    "    for prior in prior_types:\n",
    "        prior_ids = input(\"Input ids for {} prior: \".format(prior))\n",
    "        new_row[prior] = prior_ids\n",
    "    return df.append([new_row])"
   ]
  },
  {
   "cell_type": "code",
   "execution_count": 14,
   "metadata": {},
   "outputs": [
    {
     "data": {
      "image/png": "[encoded data removed]",
      "text/plain": [
       "<Figure size 1080x576 with 8 Axes>"
      ]
     },
     "metadata": {
      "needs_background": "light"
     },
     "output_type": "display_data"
    },
    {
     "name": "stdout",
     "output_type": "stream",
     "text": [
      "Task Id: 8efcae92.json\n"
     ]
    },
    {
     "name": "stdin",
     "output_type": "stream",
     "text": [
      "Input ids for object_priors prior:  a\n",
      "Input ids for goal_directedness_priors prior:  a\n",
      "Input ids for counting_priors prior:  a\n",
      "Input ids for basic_geometry_priors prior:  a\n"
     ]
    }
   ],
   "source": [
    "df = run_label_iteration(df)"
   ]
  },
  {
   "cell_type": "code",
   "execution_count": null,
   "metadata": {},
   "outputs": [],
   "source": [
    "df.to_csv(meta_filename, index=False)"
   ]
  },
  {
   "cell_type": "code",
   "execution_count": null,
   "metadata": {},
   "outputs": [],
   "source": [
    "priors = {\n",
    "    \"object_priors\": {\n",
    "        1: \"lines\",\n",
    "        2: \"complete boxes\",\n",
    "        3: \"partial boxes\",\n",
    "        4: \"triangle\",\n",
    "        5: \"random figures\",\n",
    "        6: \"noise\",\n",
    "        7: \"object contact relationship\"\n",
    "    },\n",
    "    \"goal_directedness_priors\": {\n",
    "        1: \"move till acheive goal\"\n",
    "    },\n",
    "    \"counting_priors\": {\n",
    "        1: \"count\",\n",
    "        2: \"sort by size\",\n",
    "        3: \"repeat\"\n",
    "    },\n",
    "    \"basic_geometry_priors\": {\n",
    "        1: \"symmetry\",\n",
    "        2: \"scaling\",\n",
    "        3: \"a shape containing other shape\",\n",
    "        4: \"drawing lines\"\n",
    "    }\n",
    "}\n",
    "prior_types = list(priors.keys())"
   ]
  }
 ],
 "metadata": {
  "kernelspec": {
   "display_name": "data-processing",
   "language": "python",
   "name": "data-processing"
  },
  "language_info": {
   "codemirror_mode": {
    "name": "ipython",
    "version": 3
   },
   "file_extension": ".py",
   "mimetype": "text/x-python",
   "name": "python",
   "nbconvert_exporter": "python",
   "pygments_lexer": "ipython3",
   "version": "3.6.9"
  }
 },
 "nbformat": 4,
 "nbformat_minor": 4
}
